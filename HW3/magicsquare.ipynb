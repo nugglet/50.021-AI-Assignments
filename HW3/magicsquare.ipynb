{
 "cells": [
  {
   "cell_type": "markdown",
   "metadata": {},
   "source": [
    "## 50.021 AI HW3: CSP\n",
    "Victoria Yong 1004455"
   ]
  },
  {
   "cell_type": "code",
   "execution_count": 5,
   "metadata": {},
   "outputs": [],
   "source": [
    "import numpy as np\n",
    "from csp import *\n",
    "\n",
    "# A magic square is a 3x3 square which all rows, columns, and diagonals must contain \n",
    "# values that sum to 6 with no duplicate numbers.\n",
    "\n",
    "class SemiMagicSquare:\n",
    "\n",
    "    def __init__(self,solver=backtracking_search, n=100, select_unassigned_variable=first_unassigned_variable, \n",
    "                       order_domain_values=unordered_domain_values, inference=no_inference):\n",
    "        \n",
    "        ################### Define class variables ####################\n",
    "        self.solver = solver\n",
    "        self.n = n\n",
    "        self.select_unassigned_variable = select_unassigned_variable\n",
    "        self.order_domain_values = order_domain_values\n",
    "        self.inference = inference\n",
    "\n",
    "        ################### Define CSP ################\n",
    "        self.vars = [f'V{i}' for i in range(1,10)] #V1 to V9\n",
    "        self.domains = {f'V{i}':[1,2,3] for i in range(1,10)} # Each variable V can take values [1, 2, 3]\n",
    "        self.neighbours = {\n",
    "                'V1': ['V2', 'V3', 'V4', 'V7', 'V5', 'V9'],\n",
    "                'V2': ['V1', 'V3', 'V5', 'V8'],\n",
    "                'V3': ['V1', 'V2', 'V5', 'V7', 'V6', 'V9'],\n",
    "                'V4': ['V1', 'V7', 'V5', 'V6'],\n",
    "                'V5': ['V1', 'V2', 'V3', 'V4', 'V6', 'V7', 'V8', 'V9'],\n",
    "                'V6': ['V3', 'V4', 'V5', 'V9'],\n",
    "                'V7': ['V1', 'V4', 'V5', 'V3', 'V8', 'V9'],\n",
    "                'V8': ['V7', 'V2', 'V5', 'V9'],\n",
    "                'V9': ['V1', 'V5', 'V3', 'V6', 'V7', 'V8'],\n",
    "            } # From the diagram in the pdf, neighbours are all cells in the same row/col/diag\n",
    "\n",
    "    def constraint(self, A, a, B, b):\n",
    "        # returns true if neighbors A, B satisfy the constraint when they have values A=a, B=b\n",
    "        return a != b\n",
    "\n",
    "    def solve(self, verbose=True):\n",
    "        out = []\n",
    "        for i in range(self.n): \n",
    "            problem = CSP(self.vars, self.domains, self.neighbours, self.constraint)\n",
    "            solution = self.solver(problem, select_unassigned_variable=self.select_unassigned_variable, order_domain_values=self.order_domain_values, inference=self.inference)\n",
    "            assign = problem.infer_assignment()\n",
    "            out.append(problem.nassigns)\n",
    "        avg = np.mean(out, dtype=np.float32)\n",
    "\n",
    "        if verbose:\n",
    "            print(f\"{self.solver.__name__:<25}{self.n:<10}{self.select_unassigned_variable.__name__:<30}{self.order_domain_values.__name__:<30}{self.inference.__name__:<20}{avg:<10}\")\n",
    "        return out\n",
    "     "
   ]
  },
  {
   "cell_type": "markdown",
   "metadata": {},
   "source": [
    "### Results over 1 epoch (n=1)"
   ]
  },
  {
   "cell_type": "code",
   "execution_count": 6,
   "metadata": {},
   "outputs": [
    {
     "name": "stdout",
     "output_type": "stream",
     "text": [
      "\u001b[1mSolver                   n         Variable Ordering             Value Ordering                Inference           Avg Assignments\u001b[0m\n",
      "backtracking_search      1         first_unassigned_variable     unordered_domain_values       no_inference        27.0      \n",
      "backtracking_search      1         first_unassigned_variable     unordered_domain_values       forward_checking    15.0      \n",
      "backtracking_search      1         first_unassigned_variable     unordered_domain_values       mac                 9.0       \n",
      "backtracking_search      1         first_unassigned_variable     lcv                           no_inference        27.0      \n",
      "backtracking_search      1         first_unassigned_variable     lcv                           forward_checking    15.0      \n",
      "backtracking_search      1         first_unassigned_variable     lcv                           mac                 9.0       \n",
      "backtracking_search      1         mrv                           unordered_domain_values       no_inference        53.0      \n",
      "backtracking_search      1         mrv                           unordered_domain_values       forward_checking    16.0      \n",
      "backtracking_search      1         mrv                           unordered_domain_values       mac                 9.0       \n",
      "backtracking_search      1         mrv                           lcv                           no_inference        29.0      \n",
      "backtracking_search      1         mrv                           lcv                           forward_checking    15.0      \n",
      "backtracking_search      1         mrv                           lcv                           mac                 9.0       \n"
     ]
    }
   ],
   "source": [
    "var_ordering = [first_unassigned_variable, mrv]\n",
    "val_ordering = [unordered_domain_values, lcv]\n",
    "inferences = [no_inference, forward_checking, mac]\n",
    "\n",
    "print(f\"\\033[1m{'Solver':<25}{'n':10}{'Variable Ordering':<30}{'Value Ordering':<30}{'Inference':<20}{'Avg Assignments':10}\\033[0m\")\n",
    "\n",
    "for var in var_ordering:\n",
    "    for val in val_ordering:\n",
    "        for inf in inferences:   \n",
    "            sms = SemiMagicSquare(n=1, select_unassigned_variable=var, order_domain_values=val, inference=inf)\n",
    "            assigns = sms.solve()"
   ]
  },
  {
   "cell_type": "markdown",
   "metadata": {},
   "source": [
    "### Results over 100 epochs (n=100)"
   ]
  },
  {
   "cell_type": "code",
   "execution_count": 7,
   "metadata": {},
   "outputs": [
    {
     "name": "stdout",
     "output_type": "stream",
     "text": [
      "\u001b[1mSolver                   n         Variable Ordering             Value Ordering                Inference           Avg Assignments\u001b[0m\n",
      "backtracking_search      100       first_unassigned_variable     unordered_domain_values       no_inference        27.0      \n",
      "backtracking_search      100       first_unassigned_variable     unordered_domain_values       forward_checking    15.0      \n",
      "backtracking_search      100       first_unassigned_variable     unordered_domain_values       mac                 9.0       \n",
      "backtracking_search      100       first_unassigned_variable     lcv                           no_inference        27.0      \n",
      "backtracking_search      100       first_unassigned_variable     lcv                           forward_checking    15.0      \n",
      "backtracking_search      100       first_unassigned_variable     lcv                           mac                 9.0       \n",
      "backtracking_search      100       mrv                           unordered_domain_values       no_inference        60.13999938964844\n",
      "backtracking_search      100       mrv                           unordered_domain_values       forward_checking    16.239999771118164\n",
      "backtracking_search      100       mrv                           unordered_domain_values       mac                 9.0       \n",
      "backtracking_search      100       mrv                           lcv                           no_inference        62.41999816894531\n",
      "backtracking_search      100       mrv                           lcv                           forward_checking    16.09000015258789\n",
      "backtracking_search      100       mrv                           lcv                           mac                 9.0       \n"
     ]
    }
   ],
   "source": [
    "var_ordering = [first_unassigned_variable, mrv]\n",
    "val_ordering = [unordered_domain_values, lcv]\n",
    "inferences = [no_inference, forward_checking, mac]\n",
    "\n",
    "print(f\"\\033[1m{'Solver':<25}{'n':10}{'Variable Ordering':<30}{'Value Ordering':<30}{'Inference':<20}{'Avg Assignments':10}\\033[0m\")\n",
    "\n",
    "for var in var_ordering:\n",
    "    for val in val_ordering:\n",
    "        for inf in inferences:   \n",
    "            sms = SemiMagicSquare(select_unassigned_variable=var, order_domain_values=val, inference=inf)\n",
    "            assigns = sms.solve()"
   ]
  },
  {
   "cell_type": "markdown",
   "metadata": {},
   "source": [
    "### Results over 10 000 epochs (n=10000)"
   ]
  },
  {
   "cell_type": "code",
   "execution_count": 8,
   "metadata": {},
   "outputs": [
    {
     "name": "stdout",
     "output_type": "stream",
     "text": [
      "\u001b[1mSolver                   n         Variable Ordering             Value Ordering                Inference           Avg Assignments\u001b[0m\n",
      "backtracking_search      10000     first_unassigned_variable     unordered_domain_values       no_inference        27.0      \n",
      "backtracking_search      10000     first_unassigned_variable     unordered_domain_values       forward_checking    15.0      \n",
      "backtracking_search      10000     first_unassigned_variable     unordered_domain_values       mac                 9.0       \n",
      "backtracking_search      10000     first_unassigned_variable     lcv                           no_inference        27.0      \n",
      "backtracking_search      10000     first_unassigned_variable     lcv                           forward_checking    15.0      \n",
      "backtracking_search      10000     first_unassigned_variable     lcv                           mac                 9.0       \n",
      "backtracking_search      10000     mrv                           unordered_domain_values       no_inference        60.763099670410156\n",
      "backtracking_search      10000     mrv                           unordered_domain_values       forward_checking    16.01569938659668\n",
      "backtracking_search      10000     mrv                           unordered_domain_values       mac                 9.0       \n",
      "backtracking_search      10000     mrv                           lcv                           no_inference        61.088401794433594\n",
      "backtracking_search      10000     mrv                           lcv                           forward_checking    15.974599838256836\n",
      "backtracking_search      10000     mrv                           lcv                           mac                 9.0       \n"
     ]
    }
   ],
   "source": [
    "var_ordering = [first_unassigned_variable, mrv]\n",
    "val_ordering = [unordered_domain_values, lcv]\n",
    "inferences = [no_inference, forward_checking, mac]\n",
    "\n",
    "print(f\"\\033[1m{'Solver':<25}{'n':10}{'Variable Ordering':<30}{'Value Ordering':<30}{'Inference':<20}{'Avg Assignments':10}\\033[0m\")\n",
    "\n",
    "for var in var_ordering:\n",
    "    for val in val_ordering:\n",
    "        for inf in inferences:   \n",
    "            sms = SemiMagicSquare(n=10000, select_unassigned_variable=var, order_domain_values=val, inference=inf)\n",
    "            assigns = sms.solve()"
   ]
  },
  {
   "cell_type": "markdown",
   "metadata": {},
   "source": [
    "## Results"
   ]
  },
  {
   "cell_type": "markdown",
   "metadata": {},
   "source": [
    "Using the default hyperparameters of `backtracking_search`, `first_unassigned_variable`, `unordered_domain_values` and `no_inference` as a baseline, the average minimum number of assignments over 100 epochs was 27.\n",
    "- 4 out of 12 hyperparmameter configurations were able to obtain the best solution with 9 assignments, which appears to be due to the use of the `mac` (maintain arc consistency) method of inference. \n",
    "\n",
    "- It appears that changing the value ordering had minimal impact on the number of assignments, while changing the inference had the greatest impact. Using `no_inference` consistently performed the worst, followed by `forward_checking`. Using `mac` always produced the best result. `forward_checking` terminates early when any variable has no legal values and does not have to wait for the value to be assigned, which increases performance significantly. The `mac` algorithm outperforms the other inference algorithms with its ability to spot failures early since it checks the values of the current node under constraint and its neighbours.\n",
    "\n",
    "- changing the n value had no significant impact on the performance of most algorithms, except when using `mrv`, in which increasing n produced worse results.\n",
    "\n",
    "- The results seem to reflect that backtracking search with `first_unassigned_variable` ordering produced the most stable results. When using `mrv` (minimum remaining values heuristic), the number of assignments may increase unprecedentedly. This may be due to mrv causing the solver to explore branches with no solution. Hence, more backtracking would be required, adding to the number of assignments."
   ]
  }
 ],
 "metadata": {
  "interpreter": {
   "hash": "2043299c89c8cd0b4d1a6f5cf4529bd58e6a4e0fe3181a25e0d328c821cdc5c5"
  },
  "kernelspec": {
   "display_name": "Python 3.9.7 ('base')",
   "language": "python",
   "name": "python3"
  },
  "language_info": {
   "codemirror_mode": {
    "name": "ipython",
    "version": 3
   },
   "file_extension": ".py",
   "mimetype": "text/x-python",
   "name": "python",
   "nbconvert_exporter": "python",
   "pygments_lexer": "ipython3",
   "version": "3.9.7"
  },
  "orig_nbformat": 4
 },
 "nbformat": 4,
 "nbformat_minor": 2
}
